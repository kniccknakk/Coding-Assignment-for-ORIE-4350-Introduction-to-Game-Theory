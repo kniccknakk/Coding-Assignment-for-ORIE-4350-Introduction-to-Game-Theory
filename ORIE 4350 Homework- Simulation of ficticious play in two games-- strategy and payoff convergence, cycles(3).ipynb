{
 "cells": [
  {
   "cell_type": "markdown",
   "metadata": {},
   "source": [
    "Week 4; Problem 2: (Coding project)\n",
    "\n",
    "Simulate fictitious play in game 1 and game 2, respectively. You can choose an arbi-\n",
    "trary initial state for your algorithm. In each game, answer the following questions:\n",
    "\n",
    "1. Does strategy sequence converge? Does strategy sequence converge in time averaged sense?\n",
    "2. Does payoffs converge?\n",
    "3. Have you detected cycles in strategies and payoffs?\n",
    "\n",
    "\n",
    "Game 1:\n",
    "\n",
    "|   | R       | P       | S       |   |\n",
    "|---|---------|---------|---------|---|\n",
    "| R | (0, 0)  | (-1, 1) | (1, -1) |   |\n",
    "| P | (1, -1) | (0, 0)  | (-1, 1) |   |\n",
    "| S | (-1, 1) | (1, -1) | (0, 0)  |   |\n",
    "\n",
    "\n",
    "\n",
    "Game 2:\n",
    "\n",
    "|   | R      | P      | S      |   |\n",
    "|---|--------|--------|--------|---|\n",
    "| R | (0, 0) | (0, 1) | (1, 0) |   |\n",
    "| P | (1, 0) | (0, 0) | (0, 1) |   |\n",
    "| S | (0, 1) | (1, 0) | (0, 0) |   |\n",
    "\n",
    "\n",
    "Please see below: "
   ]
  },
  {
   "cell_type": "code",
   "execution_count": 3,
   "metadata": {},
   "outputs": [],
   "source": []
  },
  {
   "cell_type": "code",
   "execution_count": 4,
   "metadata": {},
   "outputs": [
    {
     "name": "stdout",
     "output_type": "stream",
     "text": [
      "0\n",
      "[1659, 1625, 1716]\n",
      "[1683, 1687, 1630]\n"
     ]
    },
    {
     "data": {
      "text/plain": [
       "[<matplotlib.lines.Line2D at 0x7fd791314c10>,\n",
       " <matplotlib.lines.Line2D at 0x7fd791314c40>]"
      ]
     },
     "execution_count": 4,
     "metadata": {},
     "output_type": "execute_result"
    },
    {
     "data": {
      "image/png": "[encoded data removed]",
      "text/plain": [
       "<Figure size 432x288 with 1 Axes>"
      ]
     },
     "metadata": {
      "needs_background": "light"
     },
     "output_type": "display_data"
    }
   ],
   "source": [
    "import requests\n",
    "from bs4 import BeautifulSoup\n",
    "\n",
    "import pandas as pd\n",
    "import numpy as np\n",
    "import time\n",
    "\n",
    "import seaborn as sns\n",
    "from matplotlib import pyplot\n",
    "\n",
    "from sklearn.linear_model import LogisticRegression\n",
    "\n",
    "import matplotlib.pyplot as plt\n",
    "\n",
    "u = [[0,-1,1],[1,0,-1],[-1,1,0]]\n",
    "r = 0 \n",
    "p = 1 \n",
    "s = 2\n",
    "t = 1 \n",
    "\n",
    "rp1 = []\n",
    "pp1 = [] \n",
    "sp1 = [] \n",
    "\n",
    "rp2 = []\n",
    "pp2 = [] \n",
    "sp2 = [] \n",
    "\n",
    "\n",
    "eta1 = [1,0,0] \n",
    "eta2 = [0,0,1]\n",
    "\n",
    "while t < 5000: \n",
    "    t = t+1\n",
    " \n",
    "    \n",
    "    mu_rock_e1 = eta2[r]/(eta2[r]+eta2[p]+eta2[s]) \n",
    "    mu_paper_e1 = eta2[p]/(eta2[r]+eta2[p]+eta2[s]) \n",
    "    mu_sciss_1 = eta2[s]/(eta2[r]+eta2[p]+eta2[s]) \n",
    "    \n",
    "    \n",
    "  \n",
    "    mu_rock_e2 = eta1[r]/(eta1[r]+eta1[p]+eta1[s])\n",
    "    mu_paper_e2 = eta1[p]/(eta1[r]+eta1[p]+eta1[s])\n",
    "    mu_sciss_2 = eta1[s]/(eta1[r]+eta1[p]+eta1[s])\n",
    "    \n",
    "    u_rock_1 = (u[0][0])*(mu_rock_e1) + (u[0][1])*(mu_paper_e1) + (u[0][2])*(mu_sciss_1) \n",
    "    u_paper_1 = (u[1][0])*(mu_rock_e1) + (u[1][1])*(mu_paper_e1) + (u[1][2])*(mu_sciss_1)\n",
    "    u_sciss_1 = (u[2][0])*(mu_rock_e1) + (u[2][1])*(mu_paper_e1) + (u[2][2])*(mu_sciss_1)\n",
    "    \n",
    "    \n",
    "    max1 = np.argmax([u_rock_1, u_paper_1, u_sciss_1])\n",
    "  \n",
    "    \n",
    "    rp1.append(mu_rock_e1)\n",
    "    pp1.append(  mu_paper_e1) \n",
    "    sp1.append(mu_sciss_1)\n",
    "    \n",
    "    u_rock_2 = (u[0][0])*(mu_rock_e2 ) + (u[1][0])*( mu_paper_e2) + (u[2][0])*(mu_sciss_2) \n",
    "    u_paper_2 = (u[0][1])*(mu_rock_e2 ) + (u[1][1])*( mu_paper_e2) + (u[2][1])*(mu_sciss_2) \n",
    "    u_sciss_2 = (u[0][2])*(mu_rock_e2 ) + (u[1][2])*( mu_paper_e2) + (u[2][2])*(mu_sciss_2) \n",
    "    \n",
    "    min2 = np.argmin([u_rock_2 , u_paper_2, u_sciss_2])\n",
    "    \n",
    "    rp2.append(mu_rock_e2)\n",
    "    pp2.append(mu_paper_e2) \n",
    "    sp2.append(mu_sciss_2)\n",
    "    \n",
    "    eta1[max1] = (eta1[max1])+1 \n",
    "    eta2[min2] = eta2[min2]+1  \n",
    "    \n",
    "    \n",
    "print(max1)\n",
    "print(eta2)\n",
    "print(eta1)\n",
    "    \n",
    "plt.plot(rp1, pp1, sp1) \n",
    "    \n",
    "    "
   ]
  },
  {
   "cell_type": "code",
   "execution_count": 5,
   "metadata": {},
   "outputs": [
    {
     "name": "stdout",
     "output_type": "stream",
     "text": [
      "2\n",
      "[171240, 460941, 367819]\n",
      "[539071, 250970, 209959]\n"
     ]
    },
    {
     "data": {
      "text/plain": [
       "[<matplotlib.lines.Line2D at 0x7fd78022ab50>,\n",
       " <matplotlib.lines.Line2D at 0x7fd78022ac70>]"
      ]
     },
     "execution_count": 5,
     "metadata": {},
     "output_type": "execute_result"
    },
    {
     "data": {
      "image/png": "[encoded data removed]",
      "text/plain": [
       "<Figure size 432x288 with 1 Axes>"
      ]
     },
     "metadata": {
      "needs_background": "light"
     },
     "output_type": "display_data"
    }
   ],
   "source": [
    "import requests\n",
    "from bs4 import BeautifulSoup\n",
    "import pandas as pd\n",
    "import numpy as np\n",
    "import time\n",
    "import seaborn as sns\n",
    "from matplotlib import pyplot\n",
    "from sklearn.linear_model import LogisticRegression\n",
    "import matplotlib.pyplot as plt\n",
    "\n",
    "u = [[0,0,1],[1,0,0],[0,1,0]]\n",
    "u2 = [[0,1,0],[0,0,1],[1,0,0]]\n",
    "r = 0 \n",
    "p = 1 \n",
    "s = 2\n",
    "t = 1 \n",
    "\n",
    "rp1 = []\n",
    "pp1 = [] \n",
    "sp1 = [] \n",
    "\n",
    "rp2 = []\n",
    "pp2 = [] \n",
    "sp2 = [] \n",
    "\n",
    "\n",
    "eta1 = [1,0,0] \n",
    "eta2 = [0,0,1]\n",
    "\n",
    "while t < 1000000: \n",
    "    t = t+1\n",
    " \n",
    "    \n",
    "    mu_rock_e1 = eta2[r]/(eta2[r]+eta2[p]+eta2[s]) \n",
    "    mu_paper_e1 = eta2[p]/(eta2[r]+eta2[p]+eta2[s]) \n",
    "    mu_sciss_1 = eta2[s]/(eta2[r]+eta2[p]+eta2[s]) \n",
    "    \n",
    "    \n",
    "  \n",
    "    mu_rock_e2 = eta1[r]/(eta1[r]+eta1[p]+eta1[s])\n",
    "    mu_paper_e2 = eta1[p]/(eta1[r]+eta1[p]+eta1[s])\n",
    "    mu_sciss_2 = eta1[s]/(eta1[r]+eta1[p]+eta1[s])\n",
    "    \n",
    "    u_rock_1 = (u[0][0])*(mu_rock_e1) + (u[0][1])*(mu_paper_e1) + (u[0][2])*(mu_sciss_1) \n",
    "    u_paper_1 = (u[1][0])*(mu_rock_e1) + (u[1][1])*(mu_paper_e1) + (u[1][2])*(mu_sciss_1)\n",
    "    u_sciss_1 = (u[2][0])*(mu_rock_e1) + (u[2][1])*(mu_paper_e1) + (u[2][2])*(mu_sciss_1)\n",
    "    \n",
    "    \n",
    "    max1 = np.argmax([u_rock_1, u_paper_1, u_sciss_1])\n",
    "  \n",
    "    \n",
    "    rp1.append(mu_rock_e1)\n",
    "    pp1.append(  mu_paper_e1) \n",
    "    sp1.append(mu_sciss_1)\n",
    "    \n",
    "    u_rock_2 = (u2[0][0])*(mu_rock_e2 ) + (u2[1][0])*( mu_paper_e2) + (u2[2][0])*(mu_sciss_2) \n",
    "    u_paper_2 = (u2[0][1])*(mu_rock_e2 ) + (u2[1][1])*( mu_paper_e2) + (u2[2][1])*(mu_sciss_2) \n",
    "    u_sciss_2 = (u2[0][2])*(mu_rock_e2 ) + (u2[1][2])*( mu_paper_e2) + (u2[2][2])*(mu_sciss_2) \n",
    "    \n",
    "    max2 = np.argmax([u_rock_2 , u_paper_2, u_sciss_2])\n",
    "    \n",
    "    rp2.append(mu_rock_e2)\n",
    "    pp2.append(mu_paper_e2) \n",
    "    sp2.append(mu_sciss_2)\n",
    "    \n",
    "    eta1[max1] = (eta1[max1])+1 \n",
    "    eta2[max2] = eta2[max2]+1  \n",
    "    \n",
    "    \n",
    "print(max1)\n",
    "print(eta2)\n",
    "print(eta1)\n",
    "    \n",
    "plt.plot(rp1, pp1, sp1) "
   ]
  },
  {
   "cell_type": "markdown",
   "metadata": {},
   "source": [
    "My Answers: \n",
    "\n",
    "1) No, The strategy sequence doesn't converge/doesn't converge in a time averaged sense--\n",
    "2) No, I don't think the payoffs converge. \n",
    "3) Yes, I do indeed observe a large degree of cycling."
   ]
  }
 ],
 "metadata": {
  "kernelspec": {
   "display_name": "Python 3",
   "language": "python",
   "name": "python3"
  },
  "language_info": {
   "codemirror_mode": {
    "name": "ipython",
    "version": 3
   },
   "file_extension": ".py",
   "mimetype": "text/x-python",
   "name": "python",
   "nbconvert_exporter": "python",
   "pygments_lexer": "ipython3",
   "version": "3.8.5"
  }
 },
 "nbformat": 4,
 "nbformat_minor": 4
}
